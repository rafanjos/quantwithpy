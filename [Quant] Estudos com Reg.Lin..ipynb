{
 "cells": [
  {
   "cell_type": "code",
   "execution_count": 1,
   "metadata": {},
   "outputs": [],
   "source": [
    "import pandas as pd\n",
    "import numpy as np\n",
    "import matplotlib.pyplot as plt\n",
    "%matplotlib inline\n",
    "import statsmodels.api as sm\n",
    "from scipy import stats\n",
    "import talib"
   ]
  },
  {
   "cell_type": "code",
   "execution_count": 2,
   "metadata": {},
   "outputs": [],
   "source": [
    "from pandas_datareader import data as wb"
   ]
  },
  {
   "cell_type": "code",
   "execution_count": 3,
   "metadata": {},
   "outputs": [],
   "source": [
    "petr4 = wb.DataReader(name='PETR4.SA', data_source='yahoo', start='2015-1-1', end='2020-03-22')"
   ]
  },
  {
   "cell_type": "code",
   "execution_count": 4,
   "metadata": {},
   "outputs": [],
   "source": [
    "petr4['ema9'] = talib.EMA(petr4['Close'], timeperiod=9)"
   ]
  },
  {
   "cell_type": "code",
   "execution_count": 5,
   "metadata": {},
   "outputs": [],
   "source": [
    "petr4['ifr9'] = talib.RSI(petr4['Close'], timeperiod=9)"
   ]
  },
  {
   "cell_type": "code",
   "execution_count": null,
   "metadata": {},
   "outputs": [],
   "source": []
  },
  {
   "cell_type": "code",
   "execution_count": 9,
   "metadata": {},
   "outputs": [],
   "source": [
    "X = pd.DataFrame(petr4['ema9'])"
   ]
  },
  {
   "cell_type": "code",
   "execution_count": 10,
   "metadata": {},
   "outputs": [],
   "source": [
    "X['ifr9'] = pd.DataFrame(petr4['ifr9'])"
   ]
  },
  {
   "cell_type": "code",
   "execution_count": 16,
   "metadata": {},
   "outputs": [],
   "source": [
    "X = X.fillna(method='bfill')"
   ]
  },
  {
   "cell_type": "code",
   "execution_count": 17,
   "metadata": {},
   "outputs": [
    {
     "data": {
      "text/html": [
       "<div>\n",
       "<style scoped>\n",
       "    .dataframe tbody tr th:only-of-type {\n",
       "        vertical-align: middle;\n",
       "    }\n",
       "\n",
       "    .dataframe tbody tr th {\n",
       "        vertical-align: top;\n",
       "    }\n",
       "\n",
       "    .dataframe thead th {\n",
       "        text-align: right;\n",
       "    }\n",
       "</style>\n",
       "<table border=\"1\" class=\"dataframe\">\n",
       "  <thead>\n",
       "    <tr style=\"text-align: right;\">\n",
       "      <th></th>\n",
       "      <th>ema9</th>\n",
       "      <th>ifr9</th>\n",
       "    </tr>\n",
       "    <tr>\n",
       "      <th>Date</th>\n",
       "      <th></th>\n",
       "      <th></th>\n",
       "    </tr>\n",
       "  </thead>\n",
       "  <tbody>\n",
       "    <tr>\n",
       "      <td>2015-01-02</td>\n",
       "      <td>8.938889</td>\n",
       "      <td>49.343842</td>\n",
       "    </tr>\n",
       "    <tr>\n",
       "      <td>2015-01-05</td>\n",
       "      <td>8.938889</td>\n",
       "      <td>49.343842</td>\n",
       "    </tr>\n",
       "    <tr>\n",
       "      <td>2015-01-06</td>\n",
       "      <td>8.938889</td>\n",
       "      <td>49.343842</td>\n",
       "    </tr>\n",
       "    <tr>\n",
       "      <td>2015-01-07</td>\n",
       "      <td>8.938889</td>\n",
       "      <td>49.343842</td>\n",
       "    </tr>\n",
       "    <tr>\n",
       "      <td>2015-01-08</td>\n",
       "      <td>8.938889</td>\n",
       "      <td>49.343842</td>\n",
       "    </tr>\n",
       "    <tr>\n",
       "      <td>...</td>\n",
       "      <td>...</td>\n",
       "      <td>...</td>\n",
       "    </tr>\n",
       "    <tr>\n",
       "      <td>2020-03-16</td>\n",
       "      <td>17.647156</td>\n",
       "      <td>25.414784</td>\n",
       "    </tr>\n",
       "    <tr>\n",
       "      <td>2020-03-17</td>\n",
       "      <td>16.717725</td>\n",
       "      <td>25.271891</td>\n",
       "    </tr>\n",
       "    <tr>\n",
       "      <td>2020-03-18</td>\n",
       "      <td>15.632180</td>\n",
       "      <td>22.560586</td>\n",
       "    </tr>\n",
       "    <tr>\n",
       "      <td>2020-03-19</td>\n",
       "      <td>14.947744</td>\n",
       "      <td>27.282559</td>\n",
       "    </tr>\n",
       "    <tr>\n",
       "      <td>2020-03-20</td>\n",
       "      <td>14.372195</td>\n",
       "      <td>27.000701</td>\n",
       "    </tr>\n",
       "  </tbody>\n",
       "</table>\n",
       "<p>1295 rows × 2 columns</p>\n",
       "</div>"
      ],
      "text/plain": [
       "                 ema9       ifr9\n",
       "Date                            \n",
       "2015-01-02   8.938889  49.343842\n",
       "2015-01-05   8.938889  49.343842\n",
       "2015-01-06   8.938889  49.343842\n",
       "2015-01-07   8.938889  49.343842\n",
       "2015-01-08   8.938889  49.343842\n",
       "...               ...        ...\n",
       "2020-03-16  17.647156  25.414784\n",
       "2020-03-17  16.717725  25.271891\n",
       "2020-03-18  15.632180  22.560586\n",
       "2020-03-19  14.947744  27.282559\n",
       "2020-03-20  14.372195  27.000701\n",
       "\n",
       "[1295 rows x 2 columns]"
      ]
     },
     "execution_count": 17,
     "metadata": {},
     "output_type": "execute_result"
    }
   ],
   "source": [
    "X"
   ]
  },
  {
   "cell_type": "code",
   "execution_count": 7,
   "metadata": {},
   "outputs": [],
   "source": []
  },
  {
   "cell_type": "code",
   "execution_count": 15,
   "metadata": {},
   "outputs": [],
   "source": []
  },
  {
   "cell_type": "code",
   "execution_count": null,
   "metadata": {},
   "outputs": [],
   "source": []
  },
  {
   "cell_type": "code",
   "execution_count": 18,
   "metadata": {},
   "outputs": [],
   "source": [
    "import seaborn as sns"
   ]
  },
  {
   "cell_type": "code",
   "execution_count": 19,
   "metadata": {},
   "outputs": [],
   "source": [
    "import ta"
   ]
  },
  {
   "cell_type": "code",
   "execution_count": 149,
   "metadata": {},
   "outputs": [],
   "source": []
  },
  {
   "cell_type": "code",
   "execution_count": null,
   "metadata": {},
   "outputs": [],
   "source": []
  },
  {
   "cell_type": "code",
   "execution_count": 20,
   "metadata": {},
   "outputs": [],
   "source": [
    "petr4['LogRet'] = ta.others.daily_log_return(close = petr4['Close'], fillna = True)"
   ]
  },
  {
   "cell_type": "code",
   "execution_count": 23,
   "metadata": {},
   "outputs": [],
   "source": [
    "y = petr4['LogRet']"
   ]
  },
  {
   "cell_type": "code",
   "execution_count": 25,
   "metadata": {},
   "outputs": [
    {
     "data": {
      "text/plain": [
       "Date\n",
       "2015-01-02     0.000000\n",
       "2015-01-05    -8.934501\n",
       "2015-01-06    -3.325730\n",
       "2015-01-07     4.602586\n",
       "2015-01-08     6.259020\n",
       "                ...    \n",
       "2020-03-16   -16.251889\n",
       "2020-03-17    -0.689923\n",
       "2020-03-18   -14.103198\n",
       "2020-03-19     7.833792\n",
       "2020-03-20    -1.153228\n",
       "Name: LogRet, Length: 1295, dtype: float64"
      ]
     },
     "execution_count": 25,
     "metadata": {},
     "output_type": "execute_result"
    }
   ],
   "source": [
    "y"
   ]
  },
  {
   "cell_type": "code",
   "execution_count": null,
   "metadata": {},
   "outputs": [],
   "source": []
  },
  {
   "cell_type": "code",
   "execution_count": null,
   "metadata": {},
   "outputs": [],
   "source": []
  },
  {
   "cell_type": "code",
   "execution_count": 58,
   "metadata": {},
   "outputs": [],
   "source": []
  },
  {
   "cell_type": "code",
   "execution_count": 62,
   "metadata": {},
   "outputs": [],
   "source": []
  },
  {
   "cell_type": "code",
   "execution_count": 65,
   "metadata": {},
   "outputs": [],
   "source": [
    "logret = np.array(petr4['LogRet'])"
   ]
  },
  {
   "cell_type": "code",
   "execution_count": 60,
   "metadata": {},
   "outputs": [],
   "source": [
    "ema9 = moving_average(s, 9, 'exp')"
   ]
  },
  {
   "cell_type": "code",
   "execution_count": 112,
   "metadata": {},
   "outputs": [],
   "source": [
    "X = pd.DataFrame(data=ema9)"
   ]
  },
  {
   "cell_type": "code",
   "execution_count": 155,
   "metadata": {},
   "outputs": [],
   "source": [
    "X['ifr'] = ifr9"
   ]
  },
  {
   "cell_type": "code",
   "execution_count": 157,
   "metadata": {},
   "outputs": [
    {
     "data": {
      "text/html": [
       "<div>\n",
       "<style scoped>\n",
       "    .dataframe tbody tr th:only-of-type {\n",
       "        vertical-align: middle;\n",
       "    }\n",
       "\n",
       "    .dataframe tbody tr th {\n",
       "        vertical-align: top;\n",
       "    }\n",
       "\n",
       "    .dataframe thead th {\n",
       "        text-align: right;\n",
       "    }\n",
       "</style>\n",
       "<table border=\"1\" class=\"dataframe\">\n",
       "  <thead>\n",
       "    <tr style=\"text-align: right;\">\n",
       "      <th></th>\n",
       "      <th>0</th>\n",
       "      <th>ifr</th>\n",
       "    </tr>\n",
       "  </thead>\n",
       "  <tbody>\n",
       "    <tr>\n",
       "      <td>0</td>\n",
       "      <td>8.855311</td>\n",
       "      <td>&lt;ta.momentum.RSIIndicator object at 0x000001B2...</td>\n",
       "    </tr>\n",
       "    <tr>\n",
       "      <td>1</td>\n",
       "      <td>8.855311</td>\n",
       "      <td>&lt;ta.momentum.RSIIndicator object at 0x000001B2...</td>\n",
       "    </tr>\n",
       "    <tr>\n",
       "      <td>2</td>\n",
       "      <td>8.855311</td>\n",
       "      <td>&lt;ta.momentum.RSIIndicator object at 0x000001B2...</td>\n",
       "    </tr>\n",
       "    <tr>\n",
       "      <td>3</td>\n",
       "      <td>8.855311</td>\n",
       "      <td>&lt;ta.momentum.RSIIndicator object at 0x000001B2...</td>\n",
       "    </tr>\n",
       "    <tr>\n",
       "      <td>4</td>\n",
       "      <td>8.855311</td>\n",
       "      <td>&lt;ta.momentum.RSIIndicator object at 0x000001B2...</td>\n",
       "    </tr>\n",
       "    <tr>\n",
       "      <td>...</td>\n",
       "      <td>...</td>\n",
       "      <td>...</td>\n",
       "    </tr>\n",
       "    <tr>\n",
       "      <td>1290</td>\n",
       "      <td>19.894080</td>\n",
       "      <td>&lt;ta.momentum.RSIIndicator object at 0x000001B2...</td>\n",
       "    </tr>\n",
       "    <tr>\n",
       "      <td>1291</td>\n",
       "      <td>18.073527</td>\n",
       "      <td>&lt;ta.momentum.RSIIndicator object at 0x000001B2...</td>\n",
       "    </tr>\n",
       "    <tr>\n",
       "      <td>1292</td>\n",
       "      <td>16.216567</td>\n",
       "      <td>&lt;ta.momentum.RSIIndicator object at 0x000001B2...</td>\n",
       "    </tr>\n",
       "    <tr>\n",
       "      <td>1293</td>\n",
       "      <td>14.656244</td>\n",
       "      <td>&lt;ta.momentum.RSIIndicator object at 0x000001B2...</td>\n",
       "    </tr>\n",
       "    <tr>\n",
       "      <td>1294</td>\n",
       "      <td>14.215920</td>\n",
       "      <td>&lt;ta.momentum.RSIIndicator object at 0x000001B2...</td>\n",
       "    </tr>\n",
       "  </tbody>\n",
       "</table>\n",
       "<p>1295 rows × 2 columns</p>\n",
       "</div>"
      ],
      "text/plain": [
       "              0                                                ifr\n",
       "0      8.855311  <ta.momentum.RSIIndicator object at 0x000001B2...\n",
       "1      8.855311  <ta.momentum.RSIIndicator object at 0x000001B2...\n",
       "2      8.855311  <ta.momentum.RSIIndicator object at 0x000001B2...\n",
       "3      8.855311  <ta.momentum.RSIIndicator object at 0x000001B2...\n",
       "4      8.855311  <ta.momentum.RSIIndicator object at 0x000001B2...\n",
       "...         ...                                                ...\n",
       "1290  19.894080  <ta.momentum.RSIIndicator object at 0x000001B2...\n",
       "1291  18.073527  <ta.momentum.RSIIndicator object at 0x000001B2...\n",
       "1292  16.216567  <ta.momentum.RSIIndicator object at 0x000001B2...\n",
       "1293  14.656244  <ta.momentum.RSIIndicator object at 0x000001B2...\n",
       "1294  14.215920  <ta.momentum.RSIIndicator object at 0x000001B2...\n",
       "\n",
       "[1295 rows x 2 columns]"
      ]
     },
     "execution_count": 157,
     "metadata": {},
     "output_type": "execute_result"
    }
   ],
   "source": [
    "X"
   ]
  },
  {
   "cell_type": "code",
   "execution_count": 104,
   "metadata": {},
   "outputs": [],
   "source": [
    "y = np.array(petr4['LogRet'])"
   ]
  },
  {
   "cell_type": "code",
   "execution_count": 26,
   "metadata": {},
   "outputs": [],
   "source": [
    "from sklearn.model_selection import train_test_split"
   ]
  },
  {
   "cell_type": "code",
   "execution_count": 27,
   "metadata": {},
   "outputs": [],
   "source": [
    "X_treino, X_teste, y_treino, y_teste = train_test_split(X, y)"
   ]
  },
  {
   "cell_type": "code",
   "execution_count": 28,
   "metadata": {},
   "outputs": [],
   "source": [
    "est = sm.OLS(y, X)"
   ]
  },
  {
   "cell_type": "code",
   "execution_count": 29,
   "metadata": {},
   "outputs": [],
   "source": [
    "est2 = est.fit()"
   ]
  },
  {
   "cell_type": "code",
   "execution_count": 30,
   "metadata": {},
   "outputs": [
    {
     "name": "stdout",
     "output_type": "stream",
     "text": [
      "                                 OLS Regression Results                                \n",
      "=======================================================================================\n",
      "Dep. Variable:                 LogRet   R-squared (uncentered):                   0.075\n",
      "Model:                            OLS   Adj. R-squared (uncentered):              0.074\n",
      "Method:                 Least Squares   F-statistic:                              52.72\n",
      "Date:                Tue, 24 Mar 2020   Prob (F-statistic):                    9.72e-23\n",
      "Time:                        01:41:04   Log-Likelihood:                         -3398.4\n",
      "No. Observations:                1295   AIC:                                      6801.\n",
      "Df Residuals:                    1293   BIC:                                      6811.\n",
      "Df Model:                           2                                                  \n",
      "Covariance Type:            nonrobust                                                  \n",
      "==============================================================================\n",
      "                 coef    std err          t      P>|t|      [0.025      0.975]\n",
      "------------------------------------------------------------------------------\n",
      "ema9          -0.1038      0.011     -9.286      0.000      -0.126      -0.082\n",
      "ifr9           0.0387      0.004     10.266      0.000       0.031       0.046\n",
      "==============================================================================\n",
      "Omnibus:                      442.108   Durbin-Watson:                   2.163\n",
      "Prob(Omnibus):                  0.000   Jarque-Bera (JB):             7836.464\n",
      "Skew:                          -1.111   Prob(JB):                         0.00\n",
      "Kurtosis:                      14.845   Cond. No.                         7.21\n",
      "==============================================================================\n",
      "\n",
      "Warnings:\n",
      "[1] Standard Errors assume that the covariance matrix of the errors is correctly specified.\n"
     ]
    }
   ],
   "source": [
    "print(est2.summary())"
   ]
  },
  {
   "cell_type": "code",
   "execution_count": 31,
   "metadata": {},
   "outputs": [],
   "source": [
    "from sklearn.linear_model import LinearRegression"
   ]
  },
  {
   "cell_type": "code",
   "execution_count": 32,
   "metadata": {},
   "outputs": [],
   "source": [
    "lm = LinearRegression()"
   ]
  },
  {
   "cell_type": "code",
   "execution_count": 33,
   "metadata": {},
   "outputs": [],
   "source": [
    "model_treino = lm.fit(X_treino, y_treino)"
   ]
  },
  {
   "cell_type": "code",
   "execution_count": 34,
   "metadata": {},
   "outputs": [],
   "source": [
    "predict = model_treino.predict(X_teste)"
   ]
  },
  {
   "cell_type": "code",
   "execution_count": 35,
   "metadata": {},
   "outputs": [
    {
     "data": {
      "text/plain": [
       "<matplotlib.collections.PathCollection at 0x23cc3c9e148>"
      ]
     },
     "execution_count": 35,
     "metadata": {},
     "output_type": "execute_result"
    },
    {
     "data": {
      "image/png": "[encoded data removed]",
      "text/plain": [
       "<Figure size 864x432 with 1 Axes>"
      ]
     },
     "metadata": {
      "needs_background": "light"
     },
     "output_type": "display_data"
    }
   ],
   "source": [
    "plt.figure(figsize=(12,6))\n",
    "plt.scatter(y_teste, predict)"
   ]
  },
  {
   "cell_type": "code",
   "execution_count": 1,
   "metadata": {},
   "outputs": [],
   "source": []
  },
  {
   "cell_type": "code",
   "execution_count": null,
   "metadata": {},
   "outputs": [],
   "source": []
  },
  {
   "cell_type": "code",
   "execution_count": null,
   "metadata": {},
   "outputs": [],
   "source": []
  }
 ],
 "metadata": {
  "kernelspec": {
   "display_name": "Python 3",
   "language": "python",
   "name": "python3"
  },
  "language_info": {
   "codemirror_mode": {
    "name": "ipython",
    "version": 3
   },
   "file_extension": ".py",
   "mimetype": "text/x-python",
   "name": "python",
   "nbconvert_exporter": "python",
   "pygments_lexer": "ipython3",
   "version": "3.7.4"
  }
 },
 "nbformat": 4,
 "nbformat_minor": 2
}
